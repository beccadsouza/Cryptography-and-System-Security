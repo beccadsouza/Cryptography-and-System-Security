{
 "cells": [
  {
   "cell_type": "markdown",
   "metadata": {},
   "source": [
    "# Implementation of PGP Algorithm \n",
    "\n",
    "**Hashing Algorithm**           : SHA512\n",
    "\n",
    "**Public Key Cryptography**     : RSA\n",
    "\n",
    "**Symmetric Key Cryptography**  : DES\n",
    "\n",
    "**Compression Algorithm**       : LZ78"
   ]
  },
  {
   "cell_type": "markdown",
   "metadata": {},
   "source": [
    "from Crypto.Hash import SHA512\n",
    "from Crypto.PublicKey import RSA\n",
    "from Crypto.Cipher import DES\n",
    "from Crypto import Random\n",
    "from math import ceil"
   ]
  },
  {
   "cell_type": "code",
   "execution_count": 2,
   "metadata": {},
   "outputs": [],
   "source": [
    "## Created by Rebecca Dsouza on 30-03-19"
   ]
  },
  {
   "cell_type": "code",
   "execution_count": 3,
   "metadata": {},
   "outputs": [],
   "source": [
    "def compress(data):\n",
    "\tencoder,entry = [],[]\n",
    "\twhile len(data) != 0:\n",
    "\t\ttemp = data[0]\n",
    "\t\tif temp in entry:\n",
    "\t\t\twhile temp in entry and len(data) > 0:\n",
    "\t\t\t\tdata = data[1:]\n",
    "\t\t\t\ttemp += data[0]\n",
    "\t\t\tindex = entry.index(temp[:len(temp)-1])\n",
    "\t\t\tencoder.append(str(index+1)+\".\"+temp[-1])\n",
    "\t\telse:encoder.append(str(0)+\".\"+temp)\n",
    "\t\tentry.append(temp)\n",
    "\t\tdata = data[1:]\n",
    "\tprint(\"\".join(\"\".join(encoder).split(\".\")))\n",
    "\treturn \" \".join(encoder)\n",
    "\n",
    "def decompress(data):\n",
    "\tdata, entry = data.split(\" \"), []\n",
    "\tfor x in data:\n",
    "\t\ty = x.split(\".\")\n",
    "\t\tif int(y[0]) == 0: entry.append(y[1])\n",
    "\t\telse: entry.append(entry[int(y[0])-1]+y[1])\n",
    "\treturn \"\".join(entry)"
   ]
  },
  {
   "cell_type": "code",
   "execution_count": 4,
   "metadata": {},
   "outputs": [],
   "source": [
    "key = RSA.generate(1024,Random.new().read)\n",
    "public_key = key.publickey()\n",
    "message = 'abcdefgh'"
   ]
  },
  {
   "cell_type": "code",
   "execution_count": 5,
   "metadata": {},
   "outputs": [],
   "source": [
    "# START AUTHENTICATION\n",
    "hash_data = SHA512.new(message.encode('utf-8')).hexdigest()\n",
    "enc_data = public_key.encrypt(hash_data.encode('utf-8'), 32)\n",
    "message = enc_data[0].hex() + message\n",
    "auth_length = len(enc_data[0].hex())"
   ]
  },
  {
   "cell_type": "code",
   "execution_count": 6,
   "metadata": {},
   "outputs": [
    {
     "data": {
      "text/plain": [
       "'a3a8c81bc97c2560010d7389bc88aac974a104e0e2381220c6e084c4dccd1d2d17d4f86db31c2a851dc80e6681d74733c55dcd03dd96f6062cdda12a291ae6ce'"
      ]
     },
     "execution_count": 6,
     "metadata": {},
     "output_type": "execute_result"
    }
   ],
   "source": [
    "hash_data"
   ]
  },
  {
   "cell_type": "code",
   "execution_count": 7,
   "metadata": {},
   "outputs": [
    {
     "data": {
      "text/plain": [
       "(b'#\\t8b\\x0b\\x08\\xd70?\\xe5EL<\\xf9\\xab\\x13x\\x98$SQB\\x88\\xe1\\xce\\x11\\xec\\x00g\\xc2\\x82]\\x03\\xb5\\x85\\x9be\\x8c\\x9a<\\xd8\\x07B\\xa1*\\xa7\\xedr\\x96\\xe2kpG\\xee\\xb2\\xe3-\\xd5\\xc6+:s\\xf0\\xb3\\xa2\\xa69\\xa1aRd]\\xcf(\\xe3\\xaf\\xb1\\xbaW\\xdaA\\xc0\\xdc\\xf8\\x95\\xf3\\xfcS\\xe0\\x1ex/\\xb0\\x84W9e\\x06\\xa3\\x13\\x1eK\\xe8\\xee@\\xd9\\\\k\\x91\\xe5\\xfe\\xdfw\\xf6\\x8b;$\\xec8R\\xdd3YE\\xfc\\x18/M',)"
      ]
     },
     "execution_count": 7,
     "metadata": {},
     "output_type": "execute_result"
    }
   ],
   "source": [
    "enc_data"
   ]
  },
  {
   "cell_type": "code",
   "execution_count": 8,
   "metadata": {},
   "outputs": [
    {
     "data": {
      "text/plain": [
       "'230938620b08d7303fe5454c3cf9ab1378982453514288e1ce11ec0067c2825d03b5859b658c9a3cd80742a12aa7ed7296e26b7047eeb2e32dd5c62b3a73f0b3a2a639a16152645dcf28e3afb1ba57da41c0dcf895f3fc53e01e782fb08457396506a3131e4be8ee40d95c6b91e5fedf77f68b3b24ec3852dd335945fc182f4d'"
      ]
     },
     "execution_count": 8,
     "metadata": {},
     "output_type": "execute_result"
    }
   ],
   "source": [
    "enc_data[0].hex()"
   ]
  },
  {
   "cell_type": "code",
   "execution_count": 9,
   "metadata": {},
   "outputs": [
    {
     "data": {
      "text/plain": [
       "'230938620b08d7303fe5454c3cf9ab1378982453514288e1ce11ec0067c2825d03b5859b658c9a3cd80742a12aa7ed7296e26b7047eeb2e32dd5c62b3a73f0b3a2a639a16152645dcf28e3afb1ba57da41c0dcf895f3fc53e01e782fb08457396506a3131e4be8ee40d95c6b91e5fedf77f68b3b24ec3852dd335945fc182f4dabcdefgh'"
      ]
     },
     "execution_count": 9,
     "metadata": {},
     "output_type": "execute_result"
    }
   ],
   "source": [
    "message"
   ]
  },
  {
   "cell_type": "code",
   "execution_count": 10,
   "metadata": {},
   "outputs": [
    {
     "name": "stdout",
     "output_type": "stream",
     "text": [
      "020300092806100b380d07202f0e05041540c2c0f4a812708481415315116224814118e0133e1803611c18151002b1581598642c21318d2401141a3320a52714d112461426b11016714e821431d1051861b2a1132008352252629521611526415d18f38e68f22b52511d52433c3d8084520320c27e3114724220b941577461506a21103e16b14861488915c58934520e10f11720624b41216e18324564d2343415f18196f16d52b47e20g0h\n"
     ]
    }
   ],
   "source": [
    "# START ZIP\n",
    "message = compress(message)"
   ]
  },
  {
   "cell_type": "code",
   "execution_count": 11,
   "metadata": {},
   "outputs": [],
   "source": [
    "# START CONFIDENTIALITY\n",
    "session_key = '01234567'\n",
    "des = DES.new(session_key, DES.MODE_ECB)\n",
    "enc_key = public_key.encrypt(session_key.encode('utf-8'), 32)\n",
    "message = message.ljust(8*ceil(len(message)/8))\n",
    "enc_data = des.encrypt(message)\n",
    "conf_length = len(enc_key[0])\n",
    "enc_data = enc_key[0] + enc_data"
   ]
  },
  {
   "cell_type": "code",
   "execution_count": 12,
   "metadata": {},
   "outputs": [
    {
     "data": {
      "text/plain": [
       "(b'D\\xf8\\xf3\\xfc\\xc5\\xe0U\\xa9v\\xe2F\\xff\\x82;g\\x97\\xf5\\xd4\\xfb\\xb2\\xec0\\xcb\\r\\xdc\\xe4\\x84\\xb1\\x83\\xd6bo}0|t 72\\xad\\x01L\\xff4\\xe8\\xad\\x89\\xe6\\xab\\xef\\xb7y\\xa9\\xe4\\x12\\xf2\\x97=cJ\\xd6YM6pj(\\x06[\\xdf\\xcdBB\\xa2\\xa1J\\xb8\\r\\xdf\\xbbs_\\xfe\\xe4\\x91s\\xb9 \\xac(\\xd4I\\xe6G\\xa7n*\\x1e%\\xbdwzR\\xf6\\xc0`\\x11q\\xb3\\x9d\\xf77R[A`+\\x96\"\\x0b\\xed#\\xa0B^\\xe1\\xaa\"',)"
      ]
     },
     "execution_count": 12,
     "metadata": {},
     "output_type": "execute_result"
    }
   ],
   "source": [
    "enc_key"
   ]
  },
  {
   "cell_type": "code",
   "execution_count": 13,
   "metadata": {},
   "outputs": [
    {
     "data": {
      "text/plain": [
       "b'D\\xf8\\xf3\\xfc\\xc5\\xe0U\\xa9v\\xe2F\\xff\\x82;g\\x97\\xf5\\xd4\\xfb\\xb2\\xec0\\xcb\\r\\xdc\\xe4\\x84\\xb1\\x83\\xd6bo}0|t 72\\xad\\x01L\\xff4\\xe8\\xad\\x89\\xe6\\xab\\xef\\xb7y\\xa9\\xe4\\x12\\xf2\\x97=cJ\\xd6YM6pj(\\x06[\\xdf\\xcdBB\\xa2\\xa1J\\xb8\\r\\xdf\\xbbs_\\xfe\\xe4\\x91s\\xb9 \\xac(\\xd4I\\xe6G\\xa7n*\\x1e%\\xbdwzR\\xf6\\xc0`\\x11q\\xb3\\x9d\\xf77R[A`+\\x96\"\\x0b\\xed#\\xa0B^\\xe1\\xaa\"\\x88\\x1b8J\\x99$\\xf4\\xa9J<H\\xdd\\xbc\\xa8\\xd3\\xcb\\x16[j\\x0b;$\\xd4\\x98\\x1c\\xf6\\xfc\\xa6\\x13\\\\Qi\\xeb=m\\x9e)*\\x83\\xbf\\xb3\\xce\\x03\\x90T\\xfd\\x08\\x07j]6\\x1e\\xa9\\x91g\\x88\\xe7\\xa1u\\xe2\\xc4\\x03\\t\\x19\\x8d\\r\\x84\\\\\\xc3\\xe1@\\x116\\xa4\\x8aE\\x0b\\xa371z\\xe9\\x83\\x1bPw\\xde,5\\x8fo\\n\\x9d\\xe7D\\xe5E\\xe2\\x12\\xdf\\\\\\x9b\\x7fTB$,\\xc8\\xe4v\\xc7PG\\xd8\\x07w\\xdd;\\xe3\\xaa\\xee\\x0b\\xb6\\x1d\\x87\\x16\\xce\\x93G\\xa9X\\x9fB\\x8d|[\\xab\\x1d,d\\xe1\\xc0\"\\xb4\\x8f\\x9b\\xfc\\xc9\\x9d\\x88\\x8br\\xa1\\xd4\\xa3\\xc0\\x98B@\\xd2\\xa6\\xa8\\x8f\\x93f\\x88\\nyW\\xcb,\\xad5\\xb7\\\\\\x13\\x06\\x84\\xb2D\\xab\\x94\\xac\\xdc,+MEI\\xf9\\xb5\\xf0\\xe8\\x9a\\xbbQ\\x99\\xd4v\\x042hR\\xf3,\\xcf\\xf1N\\xa3o\\xd7M\\x9e7\\xb9&\\xed\\xca\\x0ca\\x1b6L\\x7f\\xa8\\xceQ\\xba\\xd2\\xb2\\xb3]\\xb73\\xca\\xb8\\xb3;\\xf4\\xf5\\xcbd\\xaa\\xab\\x19u\\x1e\\x89\\xdc\\xd1\\x1dh\\x9fp`wSIw\\x96p\\xbd\\x9cs\\xa6\\xccU>\\x9d\\xb2\\x12Dg\\x15]^\\xc2\\x023\\xeb\\x9b\\x19\\x94ZZ\\xf9\\x9e\\xd7K\\xff\\xd8\\xf9lC\\xd0\\xe7\\xfa^\\xb0\\x07\\xf4@~\\xd0\\xd6\\x8a\\x9b\\xad\\xb2D\\x1a\\x91\\x12x\\x89\\xbc\\xdaZ\\r\\xc9\\xa5\\xdc,v\\x14VnS\\x81c\\x15>\\xcbk\\xb5\\xa2}-=\\x9e\\xc0\\x08\\x1d\\x87,E\\xe8:|\\x92\\x7f2\\xa6~\\x7f\\xfb\\x9d\\x86\\xd1\\xaeL\\xc8\\x7fc\\x91*\\xb7\\xe9\\xf3\\x7f\\x96\\xads\\x83\\xbc\\xbc\\xa5\\x82\\xac?\\x19\\'\\xad\\xd4v\\xe2\\x9d\\xf0\\xf8\\x8f\\xf5\\x07\\x9b~\\xae6})gB\\xa1\\xe6\\xce\\x1dv\\x89\\x01\\xe4v\\x06\\xa077\\x13:|\\xc7m\\xefR\\x1a\\xc5\\xae\\xa4\\xe7j\\xe7\\xfe\\x03\\x91\\xfe\\xad\\x1c\\x8f\\xa0\\x99\\xd2\\x9c1\\xeb\\x1d\\x02\\x8b\\xff\\xfe\\xb7\\x1f&\\xa0\\xd4> \\xcb\\xe0\\xaa6\\x18\\xa6\\x1eXkv\\xf0`V\\x83\\xa2l,\\xa7\\x9e\\x89\\xf9\\xf2^J)@9\\xcew\\xec\\x0e\\xcdG\\xbb)\\x9b\\x91z\\xf3T\\xde\\xa3\\xec\\x00\\xef\\x00\\x12\\x86d\\xce\\xe26=c`7\\x19l\"tS\\xe3\\x96\\x038j\\x9e\\xd7,\\x8aT\\x82Z\\xdco\\xab\\x98\\x07\\xf9^D\\xbe\\xed5b\\xbd\\x1f>\\x01P\\xc4\\x94\\x0bl\\x89\\xb9\\xbc\\xd3\\x1a&\\xf2\\x86\\x02+.n\\xb7\\xfeJ\\x0f\\xc5\\xb5J\\xf2\\xcaS\\xa8\\x04\\xf5*X\\x1dD\\xdd\\x84\\xc7\\xb0\\xe9\\x92\\x1f\\xe6\\x95T\\x1fc\\x9883\\x19(S\\xa4\\xcb&\\xdb\\x01L\\xc0D\\xebk\\x8d&\\xd1\\x943'"
      ]
     },
     "execution_count": 13,
     "metadata": {},
     "output_type": "execute_result"
    }
   ],
   "source": [
    "enc_data"
   ]
  },
  {
   "cell_type": "code",
   "execution_count": 14,
   "metadata": {},
   "outputs": [],
   "source": [
    "# TRANSPORTATION OF MESSAGE"
   ]
  },
  {
   "cell_type": "code",
   "execution_count": 15,
   "metadata": {},
   "outputs": [
    {
     "data": {
      "text/plain": [
       "'020300092806100b380d07202f0e05041540c2c0f4a812708481415315116224814118e0133e1803611c18151002b1581598642c21318d2401141a3320a52714d112461426b11016714e821431d1051861b2a1132008352252629521611526415d18f38e68f22b52511d52433c3d8084520320c27e3114724220b941577461506a21103e16b14861488915c58934520e10f11720624b41216e18324564d2343415f18196f16d52b47e20g0h'"
      ]
     },
     "execution_count": 15,
     "metadata": {},
     "output_type": "execute_result"
    }
   ],
   "source": [
    "des = DES.new(key.decrypt(enc_data[:conf_length]),DES.MODE_ECB)\n",
    "message = des.decrypt(enc_data[conf_length:]).decode('utf-8').strip(\" \")\n",
    "message.replace(\" \",\"\").replace(\".\",\"\")\n",
    "# END CONFIDENTIALITY"
   ]
  },
  {
   "cell_type": "code",
   "execution_count": 16,
   "metadata": {},
   "outputs": [
    {
     "data": {
      "text/plain": [
       "'230938620b08d7303fe5454c3cf9ab1378982453514288e1ce11ec0067c2825d03b5859b658c9a3cd80742a12aa7ed7296e26b7047eeb2e32dd5c62b3a73f0b3a2a639a16152645dcf28e3afb1ba57da41c0dcf895f3fc53e01e782fb08457396506a3131e4be8ee40d95c6b91e5fedf77f68b3b24ec3852dd335945fc182f4dabcdefgh'"
      ]
     },
     "execution_count": 16,
     "metadata": {},
     "output_type": "execute_result"
    }
   ],
   "source": [
    "message = decompress(message)\n",
    "message\n",
    "# END ZIP"
   ]
  },
  {
   "cell_type": "code",
   "execution_count": 17,
   "metadata": {},
   "outputs": [],
   "source": [
    "dec_data = key.decrypt(bytes.fromhex(message[:auth_length])).decode('utf-8')\n",
    "hash_data = SHA512.new(message[auth_length:].encode('utf-8')).hexdigest()"
   ]
  },
  {
   "cell_type": "code",
   "execution_count": 18,
   "metadata": {},
   "outputs": [
    {
     "data": {
      "text/plain": [
       "'a3a8c81bc97c2560010d7389bc88aac974a104e0e2381220c6e084c4dccd1d2d17d4f86db31c2a851dc80e6681d74733c55dcd03dd96f6062cdda12a291ae6ce'"
      ]
     },
     "execution_count": 18,
     "metadata": {},
     "output_type": "execute_result"
    }
   ],
   "source": [
    "dec_data"
   ]
  },
  {
   "cell_type": "code",
   "execution_count": 19,
   "metadata": {},
   "outputs": [
    {
     "data": {
      "text/plain": [
       "'a3a8c81bc97c2560010d7389bc88aac974a104e0e2381220c6e084c4dccd1d2d17d4f86db31c2a851dc80e6681d74733c55dcd03dd96f6062cdda12a291ae6ce'"
      ]
     },
     "execution_count": 19,
     "metadata": {},
     "output_type": "execute_result"
    }
   ],
   "source": [
    "hash_data"
   ]
  },
  {
   "cell_type": "code",
   "execution_count": 20,
   "metadata": {},
   "outputs": [
    {
     "name": "stdout",
     "output_type": "stream",
     "text": [
      "Message hash digests are the same\n"
     ]
    }
   ],
   "source": [
    "if dec_data == hash_data: print(\"Message hash digests are the same\")\n",
    "# END AUTHENTICATION"
   ]
  }
 ],
 "metadata": {
  "kernelspec": {
   "display_name": "Python 3",
   "language": "python",
   "name": "python3"
  },
  "language_info": {
   "codemirror_mode": {
    "name": "ipython",
    "version": 3
   },
   "file_extension": ".py",
   "mimetype": "text/x-python",
   "name": "python",
   "nbconvert_exporter": "python",
   "pygments_lexer": "ipython3",
   "version": "3.6.7"
  }
 },
 "nbformat": 4,
 "nbformat_minor": 2
}
